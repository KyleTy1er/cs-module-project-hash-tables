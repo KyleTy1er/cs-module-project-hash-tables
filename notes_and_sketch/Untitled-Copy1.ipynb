{
 "cells": [
  {
   "cell_type": "code",
   "execution_count": 16,
   "metadata": {},
   "outputs": [],
   "source": [
    "class HashTableEntry:\n",
    "\n",
    "\n",
    "    def __init__(self, key, value):\n",
    "        self.key = key\n",
    "        self.value = value\n",
    "        self.next = None"
   ]
  },
  {
   "cell_type": "code",
   "execution_count": 13,
   "metadata": {},
   "outputs": [],
   "source": [
    "class LinkedList:\n",
    "\n",
    "    \n",
    "    def __init__(self, value):\n",
    "        self.head = None\n",
    "\n",
    "        \n",
    "    def find(self, value):\n",
    "        cur = self.head\n",
    "        while cur is not None:\n",
    "            if cur.value == value:\n",
    "                return cur.value\n",
    "            cur = cur.next\n",
    "        return None \n",
    "\n",
    "    \n",
    "    def delete(self, value):\n",
    "    # Special Case\n",
    "        cur = self.head\n",
    "        if cur.value == value:\n",
    "            self.head = self.head.next\n",
    "        return cur\n",
    "\n",
    "    # General Case\n",
    "        prev = cur\n",
    "        cur = cur.next\n",
    "        while cur is not None:\n",
    "            if cur.value == value:\n",
    "                prev.next = cur.next # cuts out the node\n",
    "                return cur\n",
    "            else:\n",
    "                prev = prev.next\n",
    "                cur = cur.next\n",
    "        return None\n",
    "\n",
    "    \n",
    "    def insert_at_head(self, node):\n",
    "        n = Node(value)\n",
    "        n.next = self.head\n",
    "        self.head = n"
   ]
  },
  {
   "cell_type": "code",
   "execution_count": 14,
   "metadata": {},
   "outputs": [],
   "source": [
    "class HashTable:\n",
    "\n",
    "    \n",
    "    def __init__(self, capacity = 8):\n",
    "        self.capacity = capacity\n",
    "        self.storage = [LinkedList()] * capacity\n",
    "\n",
    "        \n",
    "    def djb2(self, key):\n",
    "        hash = 5381\n",
    "        for c in key:\n",
    "            hash = (hash * 33) + ord(c)\n",
    "        return hash\n",
    "\n",
    "    \n",
    "    def hash_index(self, key):          \n",
    "        return self.djb2(key) % len(self.capacity)\n",
    "\n",
    "    \n",
    "    def put(self, key, value):\n",
    "        ll = LinkedList()\n",
    "        i = self.hash_index(key)\n",
    "        if not self.storage[i]:\n",
    "            self.storage[i] = ll\n",
    "            ll.head = HashTableEntry(key, value)\n",
    "        else:\n",
    "            if self.storage[i]:\n",
    "                ll.add_to_tail(HashTableEntry(key, value))"
   ]
  }
 ],
 "metadata": {
  "kernelspec": {
   "display_name": "Python 3.7.4 64-bit ('base': conda)",
   "language": "python",
   "name": "python37464bitbaseconda0ab463595d1d41d19d5dab79bf159242"
  },
  "language_info": {
   "codemirror_mode": {
    "name": "ipython",
    "version": 3
   },
   "file_extension": ".py",
   "mimetype": "text/x-python",
   "name": "python",
   "nbconvert_exporter": "python",
   "pygments_lexer": "ipython3",
   "version": "3.7.4"
  }
 },
 "nbformat": 4,
 "nbformat_minor": 4
}
