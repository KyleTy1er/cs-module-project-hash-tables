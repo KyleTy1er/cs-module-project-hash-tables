{
 "cells": [
  {
   "cell_type": "code",
   "execution_count": 81,
   "metadata": {},
   "outputs": [],
   "source": [
    "ht = HashTable(10)\n",
    "\n",
    "ht.put(\"key-0\", \"val-0\")\n",
    "ht.put(\"key-1\", \"val-1\")\n",
    "ht.put(\"key-2\", \"val-2\")\n",
    "ht.put(\"key-3\", \"val-3\")\n",
    "ht.put(\"key-4\", \"val-4\")\n",
    "ht.put(\"key-5\", \"val-5\")\n",
    "ht.put(\"key-6\", \"val-6\")\n",
    "ht.put(\"key-7\", \"val-7\")\n",
    "ht.put(\"key-8\", \"val-8\")\n",
    "ht.put(\"key-9\", \"val-9\")"
   ]
  },
  {
   "cell_type": "code",
   "execution_count": 82,
   "metadata": {},
   "outputs": [
    {
     "name": "stdout",
     "output_type": "stream",
     "text": [
      "val-0\n",
      "val-1\n",
      "val-2\n",
      "val-3\n",
      "val-4\n",
      "val-5\n",
      "val-6\n",
      "val-7\n",
      "val-8\n",
      "val-9\n"
     ]
    }
   ],
   "source": [
    "print(ht.get(\"key-0\"))\n",
    "print(ht.get(\"key-1\"))\n",
    "print(ht.get(\"key-2\"))\n",
    "print(ht.get(\"key-3\"))\n",
    "print(ht.get(\"key-4\"))\n",
    "print(ht.get(\"key-5\"))\n",
    "print(ht.get(\"key-6\"))\n",
    "print(ht.get(\"key-7\"))\n",
    "\n",
    "# for some reaosn key-8 and key-9 are printing \"val-0\" and \"val-1\"\n",
    "# its because the capacity isn't updated?\n",
    "print(ht.get(\"key-8\"))\n",
    "print(ht.get(\"key-9\"))\n",
    "            "
   ]
  },
  {
   "cell_type": "code",
   "execution_count": 40,
   "metadata": {},
   "outputs": [],
   "source": [
    "ht.put(\"key-0\", \"new-val-0\")"
   ]
  },
  {
   "cell_type": "code",
   "execution_count": 55,
   "metadata": {},
   "outputs": [
    {
     "data": {
      "text/plain": [
       "'key-0'"
      ]
     },
     "execution_count": 55,
     "metadata": {},
     "output_type": "execute_result"
    }
   ],
   "source": [
    "ht.storage[9].head.key"
   ]
  },
  {
   "cell_type": "code",
   "execution_count": null,
   "metadata": {
    "collapsed": false,
    "jupyter": {
     "outputs_hidden": false
    },
    "pycharm": {
     "name": "#%%\n"
    }
   },
   "outputs": [],
   "source": [
    "ht.storage[9].key"
   ]
  },
  {
   "cell_type": "code",
   "execution_count": null,
   "metadata": {
    "collapsed": false,
    "jupyter": {
     "outputs_hidden": false
    },
    "pycharm": {
     "name": "#%%\n"
    }
   },
   "outputs": [],
   "source": [
    "ht.storage[9].head.value"
   ]
  },
  {
   "cell_type": "code",
   "execution_count": null,
   "metadata": {
    "collapsed": false,
    "jupyter": {
     "outputs_hidden": false
    },
    "pycharm": {
     "name": "#%%\n"
    }
   },
   "outputs": [],
   "source": [
    "ht.storage[9].value"
   ]
  },
  {
   "cell_type": "code",
   "execution_count": null,
   "metadata": {
    "collapsed": false,
    "jupyter": {
     "outputs_hidden": false
    },
    "pycharm": {
     "name": "#%%\n"
    }
   },
   "outputs": [],
   "source": []
  },
  {
   "cell_type": "code",
   "execution_count": 57,
   "metadata": {},
   "outputs": [
    {
     "data": {
      "text/plain": [
       "'key-0'"
      ]
     },
     "execution_count": 57,
     "metadata": {},
     "output_type": "execute_result"
    }
   ],
   "source": [
    "ht.storage[0].key"
   ]
  },
  {
   "cell_type": "code",
   "execution_count": 56,
   "metadata": {},
   "outputs": [
    {
     "data": {
      "text/plain": [
       "'new-val-0'"
      ]
     },
     "execution_count": 56,
     "metadata": {},
     "output_type": "execute_result"
    }
   ],
   "source": [
    "ht.storage[9].head.value"
   ]
  },
  {
   "cell_type": "code",
   "execution_count": 58,
   "metadata": {},
   "outputs": [
    {
     "data": {
      "text/plain": [
       "'val-0'"
      ]
     },
     "execution_count": 58,
     "metadata": {},
     "output_type": "execute_result"
    }
   ],
   "source": [
    "ht.storage[9].value"
   ]
  },
  {
   "cell_type": "code",
   "execution_count": null,
   "metadata": {},
   "outputs": [],
   "source": []
  },
  {
   "cell_type": "code",
   "execution_count": 26,
   "metadata": {},
   "outputs": [
    {
     "data": {
      "text/plain": [
       "'key-5'"
      ]
     },
     "execution_count": 26,
     "metadata": {},
     "output_type": "execute_result"
    }
   ],
   "source": [
    "ht.storage[0].key"
   ]
  },
  {
   "cell_type": "code",
   "execution_count": 42,
   "metadata": {},
   "outputs": [
    {
     "name": "stdout",
     "output_type": "stream",
     "text": [
      "val-0\n"
     ]
    }
   ],
   "source": [
    "print(ht.get(\"key-0\"))"
   ]
  },
  {
   "cell_type": "code",
   "execution_count": 4,
   "metadata": {},
   "outputs": [
    {
     "data": {
      "text/plain": [
       "1.0"
      ]
     },
     "execution_count": 4,
     "metadata": {},
     "output_type": "execute_result"
    }
   ],
   "source": [
    "ht.get_load_factor()"
   ]
  },
  {
   "cell_type": "code",
   "execution_count": null,
   "metadata": {},
   "outputs": [],
   "source": [
    "def find_key(self, key):\n",
    "    cur = self.head\n",
    "    while cur is not None:\n",
    "        if cur.key == key:\n",
    "            return cur.key\n",
    "        cur = cur.next\n",
    "    return None"
   ]
  },
  {
   "cell_type": "code",
   "execution_count": 37,
   "metadata": {},
   "outputs": [
    {
     "data": {
      "text/plain": [
       "'val-1'"
      ]
     },
     "execution_count": 37,
     "metadata": {},
     "output_type": "execute_result"
    }
   ],
   "source": [
    "ht.storage[4].head.next.value"
   ]
  },
  {
   "cell_type": "code",
   "execution_count": 28,
   "metadata": {},
   "outputs": [
    {
     "name": "stdout",
     "output_type": "stream",
     "text": [
      "val-5\n"
     ]
    }
   ],
   "source": [
    "print(ht.get(\"key-5\"))"
   ]
  },
  {
   "cell_type": "code",
   "execution_count": 27,
   "metadata": {},
   "outputs": [
    {
     "name": "stdout",
     "output_type": "stream",
     "text": [
      "key-5\n"
     ]
    }
   ],
   "source": [
    "print(ht.storage[0].find_key(\"key-5\"))"
   ]
  },
  {
   "cell_type": "code",
   "execution_count": null,
   "metadata": {},
   "outputs": [],
   "source": [
    "return_value = ht.get(\"key-0\")\n",
    "self.assertTrue(return_value == \"val-0\")\n",
    "return_value = ht.get(\"key-1\")\n",
    "self.assertTrue(return_value == \"val-1\")\n",
    "return_value = ht.get(\"key-2\")\n",
    "self.assertTrue(return_value == \"val-2\")\n",
    "return_value = ht.get(\"key-3\")\n",
    "self.assertTrue(return_value == \"val-3\")\n",
    "return_value = ht.get(\"key-4\")\n",
    "self.assertTrue(return_value == \"val-4\")\n",
    "return_value = ht.get(\"key-5\")\n",
    "self.assertTrue(return_value == \"val-5\")\n",
    "return_value = ht.get(\"key-6\")\n",
    "self.assertTrue(return_value == \"val-6\")\n",
    "return_value = ht.get(\"key-7\")\n",
    "self.assertTrue(return_value == \"val-7\")\n",
    "return_value = ht.get(\"key-8\")\n",
    "self.assertTrue(return_value == \"val-8\")\n",
    "return_value = ht.get(\"key-9\")\n",
    "self.assertTrue(return_value == \"val-9\")"
   ]
  },
  {
   "cell_type": "code",
   "execution_count": 72,
   "metadata": {},
   "outputs": [],
   "source": [
    "ht.get(\"okay now something else\")"
   ]
  },
  {
   "cell_type": "code",
   "execution_count": 79,
   "metadata": {},
   "outputs": [],
   "source": [
    "# node\n",
    "class HashTableEntry:\n",
    "    \"\"\"\n",
    "    Linked List hash table key/value pair\n",
    "    \"\"\"\n",
    "    def __init__(self, key, value):\n",
    "        self.key = key\n",
    "        self.value = value\n",
    "        self.next = None\n",
    "        self.head = None\n",
    "        \n",
    "    def find_val(self, value):\n",
    "        # start at the head\n",
    "        cur = self.head\n",
    "        while cur is not None:\n",
    "            if cur.value == value:\n",
    "                return cur.value\n",
    "            cur = cur.next\n",
    "        return None \n",
    "    \n",
    "    def find_key(self, key):\n",
    "        cur = self.head\n",
    "        while cur is not None:\n",
    "            if cur.key == key:\n",
    "                return cur.key\n",
    "            cur = cur.next\n",
    "        return None\n",
    "        \n",
    "    \n",
    "    def insert_at_head(self, node):\n",
    "        n = node\n",
    "        # new value .next is current head\n",
    "        n.next = self.head\n",
    "        # current head is now set to n\n",
    "        self.head = n\n",
    "        \n",
    "    def delete(self, value):\n",
    "        cur = self.head\n",
    "        #Special Case of Deleting Head:\n",
    "        if cur.value == value: # are we deleting the head?\n",
    "            self.head = self.head.next\n",
    "            return cur\n",
    "        # General Case\n",
    "        prev = cur\n",
    "        cur = cur.next\n",
    "        while cur is not None:\n",
    "            if cur.value == value:\n",
    "                prev.next = cur.next # cuts out the node\n",
    "                return cur\n",
    "        else:\n",
    "            prev = prev.next\n",
    "            cur = cur.next\n",
    "            return None"
   ]
  },
  {
   "cell_type": "code",
   "execution_count": 80,
   "metadata": {},
   "outputs": [],
   "source": [
    "class HashTable:\n",
    "    \n",
    "    MIN_CAPACITY=8\n",
    "\n",
    "    def __init__(self, capacity=MIN_CAPACITY):\n",
    "        self.capacity = capacity\n",
    "        self.storage = [None] * capacity\n",
    "        self.elements = 0\n",
    "\n",
    "    def get_num_slots(self):\n",
    "        return len(self.capacity)\n",
    "\n",
    "#     def get_load_factor(self):\n",
    "\n",
    "    def djb2(self, key):\n",
    "        hash = 5381\n",
    "        for c in key:\n",
    "            hash = (hash * 33) + ord(c)\n",
    "        return hash\n",
    "\n",
    "    def hash_index(self, key):\n",
    "        return self.djb2(key) % len(self.storage)\n",
    "\n",
    "    def put(self, key, value):\n",
    "        # need to account for if the key value is the same   \n",
    "        i = self.hash_index(key)\n",
    "        if not self.storage[i]:\n",
    "            hte = HashTableEntry(key, value)\n",
    "            self.storage[i] = hte\n",
    "            self.elements += 1\n",
    "            hte.head = HashTableEntry(key, value)\n",
    "        elif self.storage[i]:\n",
    "            self.storage[i].insert_at_head(HashTableEntry(key, value))\n",
    "            \n",
    "    def get(self, key):\n",
    "        # - find the index in the hash table for the key\n",
    "        i = self.hash_index(key)\n",
    "        # - search the list for that key\n",
    "        if not self.storage[i]:\n",
    "            return None\n",
    "        else:\n",
    "            if self.storage[i].find_key(key) == key:\n",
    "                return self.storage[i].value\n",
    "            \n",
    "    def get_load_factor(self):\n",
    "        \"\"\"\n",
    "        Return the load factor for this hash table.\n",
    "\n",
    "        Implement this.\n",
    "        \"\"\"\n",
    "        return self.elements / self.capacity\n",
    "    \n",
    "    def resize(self, new_cap):\n",
    "        prev_storage = self.storage\n",
    "        self.capacity = new_cap\n",
    "        self.storage = [None] * new_cap\n",
    "        for i in range(len(prev_storage)):\n",
    "            prev = prev_storage[i]\n",
    "            if prev:\n",
    "                while prev:\n",
    "                    if prev.key:\n",
    "                        self.put(prev.key, prev.value)\n",
    "                        prev = prev.next\n",
    "                        \n",
    "    def delete(self, key):\n",
    "        \"\"\"\n",
    "        Remove the value stored with the given key.\n",
    "        Print a warning if the key is not found.\n",
    "        Implement this.\n",
    "        \"\"\"\n",
    "        i = self.hash_index(key)\n",
    "        node = self.storage[i]\n",
    "        prev = None\n",
    "        if node.key == key:\n",
    "            self.storage[i] = node.next\n",
    "            return\n",
    "        while node != None:\n",
    "            if node.key == key:\n",
    "                prev.next = node.next\n",
    "                self.storage[i].next = None\n",
    "                return\n",
    "            prev = node\n",
    "            node = node.next\n",
    "        self.elements -= 1\n",
    "        return\n",
    "       "
   ]
  },
  {
   "cell_type": "code",
   "execution_count": null,
   "metadata": {},
   "outputs": [],
   "source": [
    "df"
   ]
  }
 ],
 "metadata": {
  "kernelspec": {
   "display_name": "Python 3.7.4 64-bit ('base': conda)",
   "language": "python",
   "name": "python37464bitbaseconda0ab463595d1d41d19d5dab79bf159242"
  },
  "language_info": {
   "codemirror_mode": {
    "name": "ipython",
    "version": 3
   },
   "file_extension": ".py",
   "mimetype": "text/x-python",
   "name": "python",
   "nbconvert_exporter": "python",
   "pygments_lexer": "ipython3",
   "version": "3.7.4"
  }
 },
 "nbformat": 4,
 "nbformat_minor": 4
}
