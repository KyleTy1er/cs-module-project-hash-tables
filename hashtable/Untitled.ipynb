{
 "cells": [
  {
   "cell_type": "code",
   "execution_count": 71,
   "metadata": {},
   "outputs": [],
   "source": [
    "class HashTableEntry:\n",
    "    \"\"\"\n",
    "    Linked List hash table key/value pair\n",
    "    \"\"\"\n",
    "    def __init__(self, key, value):\n",
    "        self.key = key\n",
    "        self.value = value\n",
    "        self.next = None\n",
    "\n",
    "\n",
    "# Hash table can't have fewer than this many slots\n",
    "MIN_CAPACITY = 8\n",
    "\n",
    "\n",
    "class HashTable:\n",
    "    \"\"\"\n",
    "    A hash table that with `capacity` buckets\n",
    "    that accepts string keys\n",
    "\n",
    "    Implement this.\n",
    "    \"\"\"\n",
    "\n",
    "    def __init__(self, capacity = MIN_CAPACITY):\n",
    "        \n",
    "        self.capacity = capacity\n",
    "        self.storage = [None] * capacity\n",
    "\n",
    "\n",
    "    def get_num_slots(self):\n",
    "\n",
    "        \"\"\"\n",
    "        Return the length of the list you're using to hold the hash\n",
    "        table data. (Not the number of items stored in the hash table,\n",
    "        but the number of slots in the main list.)\n",
    "\n",
    "        One of the tests relies on this.\n",
    "\n",
    "        Implement this.\n",
    "        \"\"\"\n",
    "        return len(self.capacity)\n",
    "\n",
    "\n",
    "    def get_load_factor(self):\n",
    "        \"\"\"\n",
    "        Return the load factor for this hash table.\n",
    "\n",
    "        Implement this.\n",
    "        \"\"\"\n",
    "        # Your code here\n",
    "\n",
    "\n",
    "    def fnv1(self, key):\n",
    "        \"\"\"\n",
    "        FNV-1 Hash, 64-bit\n",
    "\n",
    "        Implement this, and/or DJB2.\n",
    "        \"\"\"\n",
    "\n",
    "        # Your code here\n",
    "\n",
    "\n",
    "    def djb2(self, key):\n",
    "        \"\"\"\n",
    "        DJB2 hash, 32-bit\n",
    "\n",
    "        Implement this, and/or FNV-1.\n",
    "        \"\"\"\n",
    "\n",
    "        hash = 5381\n",
    "        for c in key:\n",
    "            hash = (hash * 33) + ord(c)\n",
    "        return hash\n",
    "\n",
    "\n",
    "    def hash_index(self, key):\n",
    "        \"\"\"\n",
    "        Take an arbitrary key and return a valid integer index\n",
    "        between within the storage capacity of the hash table.\n",
    "        \"\"\"\n",
    "        #return self.fnv1(key) % self.capacity\n",
    "        return self.djb2(key) % self.capacity\n",
    "\n",
    "    def put(self, key, value):\n",
    "        \"\"\"\n",
    "        Store the value with the given key.\n",
    "\n",
    "        Hash collisions should be handled with Linked List Chaining.\n",
    "\n",
    "        Implement this.\n",
    "        \"\"\"\n",
    "        i = self.hash_index(key)\n",
    "        hte = HashTableEntry(key, value)\n",
    "        val = self.storage[i]\n",
    "        # check for existing entry\n",
    "        if val is not None:\n",
    "            # if a value \n",
    "            self.storage[i] = hte\n",
    "            self.storage[i].next = val\n",
    "        else:\n",
    "            self.storage[index] = hst\n",
    "        \n",
    "        index = self.hash_index(key)\n",
    "        hst = HashTableEntry(key, value)\n",
    "        node = self.storage[index]\n",
    "        if node is not None:\n",
    "            self.storage[index] = hst\n",
    "            self.storage[index].next = node\n",
    "        else:\n",
    "            self.storage[index] = hst\n",
    "\n",
    "\n",
    "\n",
    "\n",
    "\n",
    "    def delete(self, key):\n",
    "        \"\"\"\n",
    "        Remove the value stored with the given key.\n",
    "\n",
    "        Print a warning if the key is not found.\n",
    "\n",
    "        Implement this.\n",
    "        \"\"\"\n",
    "        i = self.hash_index(key)\n",
    "        self.capacity[i] = None\n",
    "\n",
    "\n",
    "    def get(self, key):\n",
    "        \"\"\"\n",
    "        Retrieve the value stored with the given key.\n",
    "\n",
    "        Returns None if the key is not found.\n",
    "\n",
    "        Implement this.\n",
    "        \"\"\"\n",
    "        i = self.hash_index(key)\n",
    "        return self.capacity[i]\n",
    "    \n",
    "    \n",
    "    def set(self, key, value):\n",
    "\n",
    "        keyHash = self.hash(key)\n",
    "        self.keys[key] = keyHash\n",
    "        bucketLinkedList = self.buckets[keyHash]  \n",
    "\n",
    "        # custom linkedlist find\n",
    "        node = None\n",
    "        currentNode = bucketLinkedList.head\n",
    "        while not currentNode == None and node == None:\n",
    "            for k in currentNode.value:\n",
    "                if k == key:\n",
    "                    node = currentNode\n",
    "                    break\n",
    "            currentNode = currentNode.next\n",
    "\n",
    "        if node == None:\n",
    "            bucketLinkedList.append({key: value})\n",
    "        else:\n",
    "            node.value[key] = value"
   ]
  },
  {
   "cell_type": "code",
   "execution_count": 72,
   "metadata": {},
   "outputs": [],
   "source": [
    "ht = HashTable(8)\n",
    "ht.put(\"key-0\", \"val-0\")\n"
   ]
  },
  {
   "cell_type": "code",
   "execution_count": 73,
   "metadata": {},
   "outputs": [
    {
     "data": {
      "text/plain": [
       "[None, None, None, 'val-0', None, None, None, None]"
      ]
     },
     "execution_count": 73,
     "metadata": {},
     "output_type": "execute_result"
    }
   ],
   "source": [
    "ht.capacity"
   ]
  },
  {
   "cell_type": "code",
   "execution_count": 59,
   "metadata": {},
   "outputs": [],
   "source": []
  },
  {
   "cell_type": "code",
   "execution_count": 22,
   "metadata": {},
   "outputs": [
    {
     "data": {
      "text/plain": [
       "8"
      ]
     },
     "execution_count": 22,
     "metadata": {},
     "output_type": "execute_result"
    }
   ],
   "source": [
    "ht.get_num_slots()"
   ]
  },
  {
   "cell_type": "code",
   "execution_count": 37,
   "metadata": {},
   "outputs": [
    {
     "data": {
      "text/plain": [
       "1"
      ]
     },
     "execution_count": 37,
     "metadata": {},
     "output_type": "execute_result"
    }
   ],
   "source": [
    "ht.hash_index(\"key-8\")"
   ]
  },
  {
   "cell_type": "code",
   "execution_count": 47,
   "metadata": {},
   "outputs": [],
   "source": [
    "ht.put(\"key-0\", \"val-0\")"
   ]
  },
  {
   "cell_type": "code",
   "execution_count": 52,
   "metadata": {},
   "outputs": [
    {
     "data": {
      "text/plain": [
       "'val-0'"
      ]
     },
     "execution_count": 52,
     "metadata": {},
     "output_type": "execute_result"
    }
   ],
   "source": []
  },
  {
   "cell_type": "code",
   "execution_count": 8,
   "metadata": {},
   "outputs": [],
   "source": [
    "ht.put(\"line_1\", \"'Twas brillig, and the slithy toves\")"
   ]
  },
  {
   "cell_type": "code",
   "execution_count": 5,
   "metadata": {},
   "outputs": [
    {
     "data": {
      "text/plain": [
       "\"'Twas brillig, and the slithy toves\""
      ]
     },
     "execution_count": 5,
     "metadata": {},
     "output_type": "execute_result"
    }
   ],
   "source": [
    "ht.get(\"line_1\")"
   ]
  },
  {
   "cell_type": "code",
   "execution_count": 53,
   "metadata": {},
   "outputs": [],
   "source": [
    "ht.delete(\"key_0\")"
   ]
  },
  {
   "cell_type": "code",
   "execution_count": 10,
   "metadata": {},
   "outputs": [],
   "source": [
    "ht.put(\"key-0\", \"val-0\")"
   ]
  },
  {
   "cell_type": "code",
   "execution_count": 54,
   "metadata": {},
   "outputs": [],
   "source": [
    "ht.put(\"key-0\", \"val-0\")\n",
    "ht.put(\"key-1\", \"val-1\")\n",
    "ht.put(\"key-2\", \"val-2\")\n",
    "ht.put(\"key-3\", \"val-3\")\n",
    "ht.put(\"key-4\", \"val-4\")\n",
    "ht.put(\"key-5\", \"val-5\")\n",
    "ht.put(\"key-6\", \"val-6\")\n",
    "ht.put(\"key-7\", \"val-7\")\n",
    "ht.put(\"key-8\", \"val-8\")\n",
    "ht.put(\"key-9\", \"val-9\")"
   ]
  },
  {
   "cell_type": "code",
   "execution_count": 55,
   "metadata": {},
   "outputs": [
    {
     "name": "stdout",
     "output_type": "stream",
     "text": [
      "val-8\n",
      "val-9\n",
      "val-2\n",
      "val-3\n",
      "val-4\n",
      "val-5\n",
      "val-6\n",
      "val-7\n",
      "val-8\n",
      "val-9\n"
     ]
    }
   ],
   "source": [
    "print(ht.get(\"key-0\"))\n",
    "print(ht.get(\"key-1\"))\n",
    "print(ht.get(\"key-2\"))\n",
    "print(ht.get(\"key-3\"))\n",
    "print(ht.get(\"key-4\"))\n",
    "print(ht.get(\"key-5\"))\n",
    "print(ht.get(\"key-6\"))\n",
    "print(ht.get(\"key-7\"))\n",
    "print(ht.get(\"key-8\"))\n",
    "print(ht.get(\"key-9\"))"
   ]
  },
  {
   "cell_type": "code",
   "execution_count": 16,
   "metadata": {},
   "outputs": [
    {
     "name": "stdout",
     "output_type": "stream",
     "text": [
      "val-8\n"
     ]
    }
   ],
   "source": [
    "print(ht.get(\"key-0\"))"
   ]
  },
  {
   "cell_type": "code",
   "execution_count": 12,
   "metadata": {},
   "outputs": [
    {
     "data": {
      "text/plain": [
       "'val-0'"
      ]
     },
     "execution_count": 12,
     "metadata": {},
     "output_type": "execute_result"
    }
   ],
   "source": [
    "ht.get(\"key-0\")"
   ]
  },
  {
   "cell_type": "code",
   "execution_count": 11,
   "metadata": {},
   "outputs": [
    {
     "data": {
      "text/plain": [
       "[None,\n",
       " None,\n",
       " None,\n",
       " 'val-0',\n",
       " None,\n",
       " \"'Twas brillig, and the slithy toves\",\n",
       " None,\n",
       " None]"
      ]
     },
     "execution_count": 11,
     "metadata": {},
     "output_type": "execute_result"
    }
   ],
   "source": [
    "ht.capacity"
   ]
  },
  {
   "cell_type": "code",
   "execution_count": null,
   "metadata": {},
   "outputs": [],
   "source": [
    "\n",
    "    ht = HashTable(8)\n",
    "\n",
    "#     ht.put(\"line_1\", \"'Twas brillig, and the slithy toves\")\n",
    "#     ht.put(\"line_2\", \"Did gyre and gimble in the wabe:\")\n",
    "#     ht.put(\"line_3\", \"All mimsy were the borogoves,\")\n",
    "#     ht.put(\"line_4\", \"And the mome raths outgrabe.\")\n",
    "#     ht.put(\"line_5\", '\"Beware the Jabberwock, my son!')\n",
    "#     ht.put(\"line_6\", \"The jaws that bite, the claws that catch!\")\n",
    "#     ht.put(\"line_7\", \"Beware the Jubjub bird, and shun\")\n",
    "#     ht.put(\"line_8\", 'The frumious Bandersnatch!\"')\n",
    "#     ht.put(\"line_9\", \"He took his vorpal sword in hand;\")\n",
    "#     ht.put(\"line_10\", \"Long time the manxome foe he sought--\")\n",
    "#     ht.put(\"line_11\", \"So rested he by the Tumtum tree\")\n",
    "#     ht.put(\"line_12\", \"And stood awhile in thought.\")\n",
    "\n",
    "#     print(\"\")\n",
    "\n",
    "#     # Test storing beyond capacity\n",
    "#     for i in range(1, 13):\n",
    "#         print(ht.get(f\"line_{i}\"))\n",
    "\n",
    "#     # Test resizing\n",
    "#     old_capacity = ht.get_num_slots()\n",
    "#     ht.resize(ht.capacity * 2)\n",
    "#     new_capacity = ht.get_num_slots()\n",
    "\n",
    "#     print(f\"\\nResized from {old_capacity} to {new_capacity}.\\n\")\n",
    "\n",
    "#     # Test if data intact after resizing\n",
    "#     for i in range(1, 13):\n",
    "#         print(ht.get(f\"line_{i}\"))\n",
    "\n",
    "#     print(\"\")\n"
   ]
  },
  {
   "cell_type": "code",
   "execution_count": 9,
   "metadata": {},
   "outputs": [],
   "source": [
    "def djb2(key):\n",
    "    hash = 5381\n",
    "    for c in key:\n",
    "        hash = (hash * 33) + ord(c)\n",
    "    return hash"
   ]
  },
  {
   "cell_type": "code",
   "execution_count": 19,
   "metadata": {},
   "outputs": [],
   "source": [
    "capacity = [None, None, None, None, None, None, None, None]"
   ]
  },
  {
   "cell_type": "code",
   "execution_count": 24,
   "metadata": {},
   "outputs": [],
   "source": [
    "def hash_index(key):\n",
    "\n",
    "    #return self.fnv1(key) % self.capacity\n",
    "    return djb2(key) % len(capacity)"
   ]
  },
  {
   "cell_type": "code",
   "execution_count": 25,
   "metadata": {},
   "outputs": [
    {
     "data": {
      "text/plain": [
       "5"
      ]
     },
     "execution_count": 25,
     "metadata": {},
     "output_type": "execute_result"
    }
   ],
   "source": [
    "hash_index(\"this\")"
   ]
  },
  {
   "cell_type": "code",
   "execution_count": 10,
   "metadata": {},
   "outputs": [
    {
     "data": {
      "text/plain": [
       "210714636441"
      ]
     },
     "execution_count": 10,
     "metadata": {},
     "output_type": "execute_result"
    }
   ],
   "source": [
    "djb2(\"hello\")"
   ]
  },
  {
   "cell_type": "code",
   "execution_count": 18,
   "metadata": {},
   "outputs": [
    {
     "data": {
      "text/plain": [
       "1"
      ]
     },
     "execution_count": 18,
     "metadata": {},
     "output_type": "execute_result"
    }
   ],
   "source": [
    "210714636441 % 8"
   ]
  },
  {
   "cell_type": "code",
   "execution_count": null,
   "metadata": {},
   "outputs": [],
   "source": []
  }
 ],
 "metadata": {
  "kernelspec": {
   "display_name": "Python 3.7.4 64-bit ('base': conda)",
   "language": "python",
   "name": "python37464bitbaseconda0ab463595d1d41d19d5dab79bf159242"
  },
  "language_info": {
   "codemirror_mode": {
    "name": "ipython",
    "version": 3
   },
   "file_extension": ".py",
   "mimetype": "text/x-python",
   "name": "python",
   "nbconvert_exporter": "python",
   "pygments_lexer": "ipython3",
   "version": "3.7.4"
  }
 },
 "nbformat": 4,
 "nbformat_minor": 4
}
